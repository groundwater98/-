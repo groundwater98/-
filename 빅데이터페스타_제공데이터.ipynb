{
  "nbformat": 4,
  "nbformat_minor": 0,
  "metadata": {
    "colab": {
      "provenance": [],
      "include_colab_link": true
    },
    "kernelspec": {
      "name": "python3",
      "display_name": "Python 3"
    },
    "language_info": {
      "name": "python"
    }
  },
  "cells": [
    {
      "cell_type": "markdown",
      "metadata": {
        "id": "view-in-github",
        "colab_type": "text"
      },
      "source": [
        "<a href=\"https://colab.research.google.com/github/mukmookk/miraeasset-festa/blob/data-engineering/%EB%B9%85%EB%8D%B0%EC%9D%B4%ED%84%B0%ED%8E%98%EC%8A%A4%ED%83%80_%EC%A0%9C%EA%B3%B5%EB%8D%B0%EC%9D%B4%ED%84%B0.ipynb\" target=\"_parent\"><img src=\"https://colab.research.google.com/assets/colab-badge.svg\" alt=\"Open In Colab\"/></a>"
      ]
    },
    {
      "cell_type": "code",
      "execution_count": 1,
      "metadata": {
        "colab": {
          "base_uri": "https://localhost:8080/"
        },
        "id": "H7LDxPT12Qo1",
        "outputId": "4fd34219-a8e4-4d77-caaa-15c9ecbb7fd8"
      },
      "outputs": [
        {
          "output_type": "stream",
          "name": "stdout",
          "text": [
            "Mounted at /content/drive\n"
          ]
        }
      ],
      "source": [
        "from google.colab import drive\n",
        "drive.mount('/content/drive')"
      ]
    },
    {
      "cell_type": "markdown",
      "source": [
        "# Data Preparation"
      ],
      "metadata": {
        "id": "TMPAyYGH3thO"
      }
    },
    {
      "cell_type": "markdown",
      "source": [
        "1. 압축 해제"
      ],
      "metadata": {
        "id": "PmpByGx93z_G"
      }
    },
    {
      "cell_type": "code",
      "source": [
        "import os\n",
        "import zipfile\n",
        "\n",
        "zip_dir = \"/content/drive/My Drive/bigdata-festa\"\n",
        "extract_dir = \"/content/drive/My Drive/bigdata-festa/data\"\n",
        "\n",
        "zip_files = [f for f in os.listdir(zip_dir) if f.endswith('.zip')]\n",
        "zip_files"
      ],
      "metadata": {
        "colab": {
          "base_uri": "https://localhost:8080/"
        },
        "id": "fhP5xUT83lEi",
        "outputId": "a5270300-e011-4f44-87bc-36f9d1d2b1fa"
      },
      "execution_count": 5,
      "outputs": [
        {
          "output_type": "execute_result",
          "data": {
            "text/plain": [
              "['news_dataset_202303.zip',\n",
              " 'news_dataset_202305.zip',\n",
              " 'news_dataset_202304.zip',\n",
              " 'news_dataset_202301.zip',\n",
              " 'news_dataset_202302.zip',\n",
              " 'cs_mkt_dataset.zip',\n",
              " 'news_dataset_202306.zip']"
            ]
          },
          "metadata": {},
          "execution_count": 5
        }
      ]
    },
    {
      "cell_type": "code",
      "source": [
        "for zip_file in zip_files:\n",
        "  with zipfile.ZipFile(os.path.join(zip_dir, zip_file), 'r') as zip_ref:\n",
        "    zip_ref.extractall(extract_dir)"
      ],
      "metadata": {
        "id": "jCSGFLge4O9A"
      },
      "execution_count": 6,
      "outputs": []
    },
    {
      "cell_type": "code",
      "source": [
        "extract_dir = \"/content/drive/My Drive/bigdata-festa/data\"\n",
        "\n",
        "for dirpath, dirnames, filenames in os.walk(extract_dir):\n",
        "  for filename in filenames:\n",
        "    print(os.path.join(dirpath, filename))"
      ],
      "metadata": {
        "colab": {
          "base_uri": "https://localhost:8080/"
        },
        "id": "V4Ujdlo25L-f",
        "outputId": "ba67cfe6-d232-4f4f-c205-af132aff5529"
      },
      "execution_count": 7,
      "outputs": [
        {
          "output_type": "stream",
          "name": "stdout",
          "text": [
            "/content/drive/My Drive/bigdata-festa/data/2023BigFesta_NewsDataset_202303_1.xlsx\n",
            "/content/drive/My Drive/bigdata-festa/data/2023BigFesta_NewsDataset_202303_2.xlsx\n",
            "/content/drive/My Drive/bigdata-festa/data/2023BigFesta_NewsDataset_202303_3.xlsx\n",
            "/content/drive/My Drive/bigdata-festa/data/2023BigFesta_NewsDataset_202303_4.xlsx\n",
            "/content/drive/My Drive/bigdata-festa/data/2023BigFesta_NewsDataset_202303_5.xlsx\n",
            "/content/drive/My Drive/bigdata-festa/data/2023BigFesta_NewsDataset_202305_1.xlsx\n",
            "/content/drive/My Drive/bigdata-festa/data/2023BigFesta_NewsDataset_202305_2.xlsx\n",
            "/content/drive/My Drive/bigdata-festa/data/2023BigFesta_NewsDataset_202305_3.xlsx\n",
            "/content/drive/My Drive/bigdata-festa/data/2023BigFesta_NewsDataset_202305_4.xlsx\n",
            "/content/drive/My Drive/bigdata-festa/data/2023BigFesta_NewsDataset_202305_5.xlsx\n",
            "/content/drive/My Drive/bigdata-festa/data/2023BigFesta_NewsDataset_202304_1.xlsx\n",
            "/content/drive/My Drive/bigdata-festa/data/2023BigFesta_NewsDataset_202304_2.xlsx\n",
            "/content/drive/My Drive/bigdata-festa/data/2023BigFesta_NewsDataset_202304_3.xlsx\n",
            "/content/drive/My Drive/bigdata-festa/data/2023BigFesta_NewsDataset_202304_4.xlsx\n",
            "/content/drive/My Drive/bigdata-festa/data/2023BigFesta_NewsDataset_202304_5.xlsx\n",
            "/content/drive/My Drive/bigdata-festa/data/2023BigFesta_NewsDataset_202301_1.xlsx\n",
            "/content/drive/My Drive/bigdata-festa/data/2023BigFesta_NewsDataset_202301_2.xlsx\n",
            "/content/drive/My Drive/bigdata-festa/data/2023BigFesta_NewsDataset_202301_3.xlsx\n",
            "/content/drive/My Drive/bigdata-festa/data/2023BigFesta_NewsDataset_202301_4.xlsx\n",
            "/content/drive/My Drive/bigdata-festa/data/2023BigFesta_NewsDataset_202301_5.xlsx\n",
            "/content/drive/My Drive/bigdata-festa/data/2023BigFesta_NewsDataset_202302_1.xlsx\n",
            "/content/drive/My Drive/bigdata-festa/data/2023BigFesta_NewsDataset_202302_2.xlsx\n",
            "/content/drive/My Drive/bigdata-festa/data/2023BigFesta_NewsDataset_202302_3.xlsx\n",
            "/content/drive/My Drive/bigdata-festa/data/2023BigFesta_NewsDataset_202302_4.xlsx\n",
            "/content/drive/My Drive/bigdata-festa/data/2023BigFesta_NewsDataset_202302_5.xlsx\n",
            "/content/drive/My Drive/bigdata-festa/data/cs_data.csv\n",
            "/content/drive/My Drive/bigdata-festa/data/apy_itm_hist.csv\n",
            "/content/drive/My Drive/bigdata-festa/data/mkt_idx.csv\n",
            "/content/drive/My Drive/bigdata-festa/data/2023BigFesta_NewsDataset_202306_1.xlsx\n",
            "/content/drive/My Drive/bigdata-festa/data/2023BigFesta_NewsDataset_202306_2.xlsx\n",
            "/content/drive/My Drive/bigdata-festa/data/2023BigFesta_NewsDataset_202306_3.xlsx\n",
            "/content/drive/My Drive/bigdata-festa/data/2023BigFesta_NewsDataset_202306_4.xlsx\n",
            "/content/drive/My Drive/bigdata-festa/data/2023BigFesta_NewsDataset_202306_5.xlsx\n"
          ]
        }
      ]
    },
    {
      "cell_type": "code",
      "source": [
        "import pandas as pd\n",
        "import os\n",
        "import glob\n",
        "\n",
        "data_dir = \"/content/drive/My Drive/bigdata-festa/data\""
      ],
      "metadata": {
        "id": "6jePXhrh5pZn"
      },
      "execution_count": null,
      "outputs": []
    }
  ]
}